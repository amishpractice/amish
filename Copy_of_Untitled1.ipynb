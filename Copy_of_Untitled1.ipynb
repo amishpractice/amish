{
  "nbformat": 4,
  "nbformat_minor": 0,
  "metadata": {
    "colab": {
      "provenance": [],
      "authorship_tag": "ABX9TyPEJHO0jbQlN5aVt0U4POiH",
      "include_colab_link": true
    },
    "kernelspec": {
      "name": "python3",
      "display_name": "Python 3"
    },
    "language_info": {
      "name": "python"
    }
  },
  "cells": [
    {
      "cell_type": "markdown",
      "metadata": {
        "id": "view-in-github",
        "colab_type": "text"
      },
      "source": [
        "<a href=\"https://colab.research.google.com/github/amishpractice/amish/blob/main/Copy_of_Untitled1.ipynb\" target=\"_parent\"><img src=\"https://colab.research.google.com/assets/colab-badge.svg\" alt=\"Open In Colab\"/></a>"
      ]
    },
    {
      "cell_type": "markdown",
      "source": [
        "###<i><u><b>Addition of two numbers<i></u></b>"
      ],
      "metadata": {
        "id": "mtwaIBWgkqAC"
      }
    },
    {
      "cell_type": "code",
      "execution_count": null,
      "metadata": {
        "colab": {
          "base_uri": "https://localhost:8080/"
        },
        "id": "FUjrPT9sjXBw",
        "outputId": "6ff851dc-1b85-402d-bf5a-8ee16ea44766"
      },
      "outputs": [
        {
          "output_type": "stream",
          "name": "stdout",
          "text": [
            "addition of two number is: 6\n"
          ]
        }
      ],
      "source": [
        "x=2\n",
        "y=4\n",
        "z=x+y\n",
        "print('addition of two number is:',z)\n"
      ]
    },
    {
      "cell_type": "code",
      "source": [],
      "metadata": {
        "id": "CX8zMg_FkmyA"
      },
      "execution_count": null,
      "outputs": []
    }
  ]
}